{
 "cells": [
  {
   "cell_type": "code",
   "execution_count": 1,
   "id": "37443ebe",
   "metadata": {
    "ExecuteTime": {
     "end_time": "2025-05-28T04:40:32.225788Z",
     "start_time": "2025-05-28T04:40:09.463855Z"
    }
   },
   "outputs": [],
   "source": [
    "import torch\n",
    "import torch.nn as nn\n",
    "import torchvision\n",
    "import torchvision.transforms as transforms\n",
    "from torchvision.datasets import MNIST\n",
    "from torch.utils.data import DataLoader\n",
    "from torch.utils.data import random_split\n",
    "import torch.optim as optim\n",
    "import matplotlib.pyplot as plt\n",
    "import numpy as np"
   ]
  },
  {
   "cell_type": "code",
   "execution_count": 85,
   "id": "e84c36b6",
   "metadata": {},
   "outputs": [
    {
     "data": {
      "text/plain": [
       "device(type='cuda')"
      ]
     },
     "execution_count": 85,
     "metadata": {},
     "output_type": "execute_result"
    }
   ],
   "source": [
    "device = torch.device(\"cuda\" if torch.cuda.is_available() else \"cpu\")\n",
    "device"
   ]
  },
  {
   "cell_type": "code",
   "execution_count": 195,
   "id": "5a2237bb",
   "metadata": {},
   "outputs": [],
   "source": [
    "transform = transforms.Compose([\n",
    "    transforms.RandomHorizontalFlip(),\n",
    "    transforms.RandomRotation(10),\n",
    "    transforms.RandomAffine(degrees=10, translate=(0.1, 0.1)),\n",
    "    transforms.ToTensor(),\n",
    "    transforms.Normalize((0.5,), (0.5,))\n",
    "])"
   ]
  },
  {
   "cell_type": "code",
   "execution_count": 184,
   "id": "9bd5e683",
   "metadata": {},
   "outputs": [],
   "source": [
    "dataset = MNIST(root='./data', train=True, download=True, transform=transform)\n",
    "train_size = int(0.8 * len(dataset))\n",
    "test_size = len(dataset) - train_size\n",
    "\n",
    "train_set, test_set = random_split(dataset, [train_size, test_size])\n",
    "\n",
    "train_loader = DataLoader(dataset=train_set, batch_size=64, shuffle=True)\n",
    "test_loader = DataLoader(dataset=test_set, batch_size=64, shuffle=False)"
   ]
  },
  {
   "cell_type": "code",
   "execution_count": 185,
   "id": "752c89bf",
   "metadata": {},
   "outputs": [],
   "source": [
    "smaple_data = MNIST(root='./data')\n",
    "def show_images(images, labels):\n",
    "    images = images.numpy()\n",
    "    fig, axes = plt.subplots(1, len(images), figsize=(12, 4))\n",
    "    for ax, img, label in zip(axes, images, labels):\n",
    "        ax.imshow(img[0], cmap='gray')\n",
    "        ax.set_title(f'Label: {label}')\n",
    "        ax.axis('off')\n",
    "    plt.show()"
   ]
  },
  {
   "cell_type": "code",
   "execution_count": 118,
   "id": "a21c1fdc",
   "metadata": {},
   "outputs": [
    {
     "data": {
      "image/png": "[encoded data removed]",
      "text/plain": [
       "<Figure size 1200x400 with 5 Axes>"
      ]
     },
     "metadata": {},
     "output_type": "display_data"
    }
   ],
   "source": [
    "show_images(smaple_data.data[:5].unsqueeze(1), smaple_data.targets[:5])"
   ]
  },
  {
   "cell_type": "code",
   "execution_count": 186,
   "id": "f8b12070",
   "metadata": {},
   "outputs": [
    {
     "data": {
      "text/plain": [
       "torch.Size([1, 28, 28])"
      ]
     },
     "execution_count": 186,
     "metadata": {},
     "output_type": "execute_result"
    }
   ],
   "source": [
    "dataset[0][0].shape"
   ]
  },
  {
   "cell_type": "code",
   "execution_count": null,
   "id": "929c65ec",
   "metadata": {},
   "outputs": [],
   "source": [
    "class CNN(nn.Module):\n",
    "    def __init__(self):\n",
    "        super(CNN, self).__init__()\n",
    "        self.conv1 = nn.Conv2d(1, 32, 3, padding=1)\n",
    "        self.conv2 = nn.Conv2d(32, 64, 3, padding=1)\n",
    "        self.conv3 = nn.Conv2d(64, 128, 3, padding=1)\n",
    "        self.pool = nn.MaxPool2d(2, 2)\n",
    "\n",
    "        self.fc1 = nn.Linear(128*3*3, 512)\n",
    "        self.fc2 = nn.Linear(512, 10)\n",
    "    \n",
    "    def forward(self, input):\n",
    "        conv1 = self.pool(torch.relu(self.conv1(input)))\n",
    "        conv2 = self.pool(torch.relu(self.conv2(conv1)))\n",
    "        conv3 = self.pool(torch.relu(self.conv3(conv2)))\n",
    "        \n",
    "        flatten = conv3.view(conv2.size(0), -1)\n",
    "\n",
    "        fc1 = torch.relu(self.fc1(flatten))\n",
    "        output = self.fc2(fc1)\n",
    "        return output"
   ]
  },
  {
   "cell_type": "code",
   "execution_count": 188,
   "id": "7a1b15a6",
   "metadata": {},
   "outputs": [],
   "source": [
    "model = CNN().to(device)"
   ]
  },
  {
   "cell_type": "code",
   "execution_count": 189,
   "id": "7dd0102a",
   "metadata": {},
   "outputs": [
    {
     "data": {
      "text/plain": [
       "CNN(\n",
       "  (conv1): Conv2d(1, 32, kernel_size=(3, 3), stride=(1, 1), padding=(1, 1))\n",
       "  (conv2): Conv2d(32, 64, kernel_size=(3, 3), stride=(1, 1), padding=(1, 1))\n",
       "  (conv3): Conv2d(64, 128, kernel_size=(3, 3), stride=(1, 1), padding=(1, 1))\n",
       "  (pool): MaxPool2d(kernel_size=2, stride=2, padding=0, dilation=1, ceil_mode=False)\n",
       "  (fc1): Linear(in_features=1152, out_features=512, bias=True)\n",
       "  (fc2): Linear(in_features=512, out_features=10, bias=True)\n",
       ")"
      ]
     },
     "execution_count": 189,
     "metadata": {},
     "output_type": "execute_result"
    }
   ],
   "source": [
    "model"
   ]
  },
  {
   "cell_type": "code",
   "execution_count": 190,
   "id": "1a073e17",
   "metadata": {},
   "outputs": [],
   "source": [
    "criterion = nn.CrossEntropyLoss()\n",
    "optimizer = optim.Adam(model.parameters(), lr=0.001)"
   ]
  },
  {
   "cell_type": "code",
   "execution_count": 193,
   "id": "aa0eed10",
   "metadata": {},
   "outputs": [
    {
     "name": "stdout",
     "output_type": "stream",
     "text": [
      "Epoch [1/10], Step [100/938], Loss: 0.0660, Accuracy: 97.84%\n",
      "Epoch [1/10], Step [200/938], Loss: 0.0706, Accuracy: 97.86%\n",
      "Epoch [1/10], Step [300/938], Loss: 0.0641, Accuracy: 97.86%\n",
      "Epoch [1/10], Step [400/938], Loss: 0.0683, Accuracy: 97.82%\n",
      "Epoch [1/10], Step [500/938], Loss: 0.0714, Accuracy: 97.81%\n",
      "Epoch [1/10], Step [600/938], Loss: 0.0715, Accuracy: 97.78%\n",
      "Epoch [1/10], Step [700/938], Loss: 0.0667, Accuracy: 97.79%\n",
      "Epoch [2/10], Step [100/938], Loss: 0.0638, Accuracy: 97.91%\n",
      "Epoch [2/10], Step [200/938], Loss: 0.0647, Accuracy: 97.94%\n",
      "Epoch [2/10], Step [300/938], Loss: 0.0630, Accuracy: 97.99%\n",
      "Epoch [2/10], Step [400/938], Loss: 0.0652, Accuracy: 97.92%\n",
      "Epoch [2/10], Step [500/938], Loss: 0.0620, Accuracy: 97.90%\n",
      "Epoch [2/10], Step [600/938], Loss: 0.0711, Accuracy: 97.90%\n",
      "Epoch [2/10], Step [700/938], Loss: 0.0615, Accuracy: 97.92%\n",
      "Epoch [3/10], Step [100/938], Loss: 0.0609, Accuracy: 98.25%\n",
      "Epoch [3/10], Step [200/938], Loss: 0.0613, Accuracy: 98.16%\n",
      "Epoch [3/10], Step [300/938], Loss: 0.0700, Accuracy: 98.05%\n",
      "Epoch [3/10], Step [400/938], Loss: 0.0694, Accuracy: 97.96%\n",
      "Epoch [3/10], Step [500/938], Loss: 0.0710, Accuracy: 97.92%\n",
      "Epoch [3/10], Step [600/938], Loss: 0.0600, Accuracy: 97.94%\n",
      "Epoch [3/10], Step [700/938], Loss: 0.0629, Accuracy: 97.94%\n",
      "Epoch [4/10], Step [100/938], Loss: 0.0502, Accuracy: 98.53%\n",
      "Epoch [4/10], Step [200/938], Loss: 0.0696, Accuracy: 98.15%\n",
      "Epoch [4/10], Step [300/938], Loss: 0.0552, Accuracy: 98.20%\n",
      "Epoch [4/10], Step [400/938], Loss: 0.0571, Accuracy: 98.23%\n",
      "Epoch [4/10], Step [500/938], Loss: 0.0622, Accuracy: 98.15%\n",
      "Epoch [4/10], Step [600/938], Loss: 0.0572, Accuracy: 98.12%\n",
      "Epoch [4/10], Step [700/938], Loss: 0.0795, Accuracy: 98.05%\n",
      "Epoch [5/10], Step [100/938], Loss: 0.0627, Accuracy: 97.88%\n",
      "Epoch [5/10], Step [200/938], Loss: 0.0677, Accuracy: 97.88%\n",
      "Epoch [5/10], Step [300/938], Loss: 0.0587, Accuracy: 97.97%\n",
      "Epoch [5/10], Step [400/938], Loss: 0.0604, Accuracy: 97.96%\n",
      "Epoch [5/10], Step [500/938], Loss: 0.0540, Accuracy: 98.01%\n",
      "Epoch [5/10], Step [600/938], Loss: 0.0575, Accuracy: 98.04%\n",
      "Epoch [5/10], Step [700/938], Loss: 0.0552, Accuracy: 98.07%\n",
      "Epoch [6/10], Step [100/938], Loss: 0.0522, Accuracy: 98.25%\n",
      "Epoch [6/10], Step [200/938], Loss: 0.0560, Accuracy: 98.31%\n",
      "Epoch [6/10], Step [300/938], Loss: 0.0551, Accuracy: 98.24%\n",
      "Epoch [6/10], Step [400/938], Loss: 0.0561, Accuracy: 98.20%\n",
      "Epoch [6/10], Step [500/938], Loss: 0.0524, Accuracy: 98.22%\n",
      "Epoch [6/10], Step [600/938], Loss: 0.0515, Accuracy: 98.23%\n",
      "Epoch [6/10], Step [700/938], Loss: 0.0592, Accuracy: 98.17%\n",
      "Epoch [7/10], Step [100/938], Loss: 0.0488, Accuracy: 98.52%\n",
      "Epoch [7/10], Step [200/938], Loss: 0.0675, Accuracy: 98.14%\n",
      "Epoch [7/10], Step [300/938], Loss: 0.0595, Accuracy: 98.11%\n",
      "Epoch [7/10], Step [400/938], Loss: 0.0566, Accuracy: 98.12%\n",
      "Epoch [7/10], Step [500/938], Loss: 0.0560, Accuracy: 98.15%\n",
      "Epoch [7/10], Step [600/938], Loss: 0.0537, Accuracy: 98.16%\n",
      "Epoch [7/10], Step [700/938], Loss: 0.0570, Accuracy: 98.16%\n",
      "Epoch [8/10], Step [100/938], Loss: 0.0534, Accuracy: 98.27%\n",
      "Epoch [8/10], Step [200/938], Loss: 0.0624, Accuracy: 98.09%\n",
      "Epoch [8/10], Step [300/938], Loss: 0.0577, Accuracy: 98.11%\n",
      "Epoch [8/10], Step [400/938], Loss: 0.0509, Accuracy: 98.19%\n",
      "Epoch [8/10], Step [500/938], Loss: 0.0563, Accuracy: 98.18%\n",
      "Epoch [8/10], Step [600/938], Loss: 0.0604, Accuracy: 98.15%\n",
      "Epoch [8/10], Step [700/938], Loss: 0.0593, Accuracy: 98.15%\n",
      "Epoch [9/10], Step [100/938], Loss: 0.0514, Accuracy: 98.23%\n",
      "Epoch [9/10], Step [200/938], Loss: 0.0576, Accuracy: 98.18%\n",
      "Epoch [9/10], Step [300/938], Loss: 0.0563, Accuracy: 98.19%\n",
      "Epoch [9/10], Step [400/938], Loss: 0.0480, Accuracy: 98.25%\n",
      "Epoch [9/10], Step [500/938], Loss: 0.0603, Accuracy: 98.21%\n",
      "Epoch [9/10], Step [600/938], Loss: 0.0596, Accuracy: 98.18%\n",
      "Epoch [9/10], Step [700/938], Loss: 0.0488, Accuracy: 98.21%\n",
      "Epoch [10/10], Step [100/938], Loss: 0.0479, Accuracy: 98.52%\n",
      "Epoch [10/10], Step [200/938], Loss: 0.0540, Accuracy: 98.31%\n",
      "Epoch [10/10], Step [300/938], Loss: 0.0520, Accuracy: 98.29%\n",
      "Epoch [10/10], Step [400/938], Loss: 0.0504, Accuracy: 98.29%\n",
      "Epoch [10/10], Step [500/938], Loss: 0.0439, Accuracy: 98.36%\n",
      "Epoch [10/10], Step [600/938], Loss: 0.0562, Accuracy: 98.34%\n",
      "Epoch [10/10], Step [700/938], Loss: 0.0488, Accuracy: 98.36%\n"
     ]
    }
   ],
   "source": [
    "epochs = 10\n",
    "for epoch in range(epochs):\n",
    "    running_loss = 0.0\n",
    "    correct = 0\n",
    "    total = 0\n",
    "\n",
    "    for i, (inputs, labels) in enumerate(train_loader):\n",
    "        inputs, labels = inputs.to(device), labels.to(device)\n",
    "        optimizer.zero_grad()\n",
    "        outputs = model(inputs)\n",
    "        loss = criterion(outputs, labels)\n",
    "        loss.backward()\n",
    "        optimizer.step()\n",
    "\n",
    "        running_loss += loss.item()\n",
    "        _, predicted = torch.max(outputs.data, 1)\n",
    "        total += labels.size(0)\n",
    "        correct += (predicted == labels).sum().item()\n",
    "    \n",
    "        if (i + 1) % 100 == 0: \n",
    "            print(f\"Epoch [{epoch+1}/{epochs}], Step [{i+1}/{len(dataloader)}], \"\n",
    "                f\"Loss: {running_loss/100:.4f}, Accuracy: {100 * correct/total:.2f}%\")\n",
    "            running_loss = 0.0"
   ]
  },
  {
   "cell_type": "code",
   "execution_count": 194,
   "id": "8e2948ba",
   "metadata": {},
   "outputs": [
    {
     "name": "stdout",
     "output_type": "stream",
     "text": [
      "Test Loss: 0.0824, Test Accuracy: 97.91%\n"
     ]
    }
   ],
   "source": [
    "model.eval()\n",
    "test_loss = 0.0\n",
    "correct = 0\n",
    "total = 0\n",
    "\n",
    "with torch.no_grad():\n",
    "    for inputs, labels in test_loader:\n",
    "        inputs, labels = inputs.to(device), labels.to(device)\n",
    "        outputs = model(inputs)\n",
    "        loss = criterion(outputs, labels)\n",
    "        test_loss += loss.item()\n",
    "        _, predicted = torch.max(outputs.data, 1)\n",
    "        total += labels.size(0)\n",
    "        correct += (predicted == labels).sum().item()\n",
    "\n",
    "avg_loss = test_loss / len(test_dataloader)\n",
    "accuracy = 100 * correct / total\n",
    "print(f\"Test Loss: {avg_loss:.4f}, Test Accuracy: {accuracy:.2f}%\")"
   ]
  }
 ],
 "metadata": {
  "kernelspec": {
   "display_name": "Python 3",
   "language": "python",
   "name": "python3"
  },
  "language_info": {
   "codemirror_mode": {
    "name": "ipython",
    "version": 3
   },
   "file_extension": ".py",
   "mimetype": "text/x-python",
   "name": "python",
   "nbconvert_exporter": "python",
   "pygments_lexer": "ipython3",
   "version": "3.13.0"
  }
 },
 "nbformat": 4,
 "nbformat_minor": 5
}
